{
 "cells": [
  {
   "cell_type": "markdown",
   "metadata": {},
   "source": [
    "# Unit 5 - Financial Planning"
   ]
  },
  {
   "cell_type": "code",
   "execution_count": 118,
   "metadata": {},
   "outputs": [],
   "source": [
    "# Initial imports\n",
    "import os\n",
    "import requests\n",
    "import pandas as pd\n",
    "from dotenv import load_dotenv\n",
    "import alpaca_trade_api as tradeapi\n",
    "from MCForecastTools import MCSimulation\n",
    "import numpy as np\n",
    "%matplotlib inline"
   ]
  },
  {
   "cell_type": "code",
   "execution_count": 77,
   "metadata": {},
   "outputs": [
    {
     "data": {
      "text/plain": [
       "True"
      ]
     },
     "execution_count": 77,
     "metadata": {},
     "output_type": "execute_result"
    }
   ],
   "source": [
    "# Load .env enviroment variables\n",
    "load_dotenv()"
   ]
  },
  {
   "cell_type": "code",
   "execution_count": 78,
   "metadata": {},
   "outputs": [],
   "source": [
    "api_key = os.getenv(\"NASDAQ_API_KEY\")\n",
    "alpaca_api_key = os.getenv(\"ALPACA_KEY\")\n",
    "alpaca_secret_key = os.getenv(\"ALPACA_SECRET_KEY\")"
   ]
  },
  {
   "cell_type": "code",
   "execution_count": 79,
   "metadata": {},
   "outputs": [],
   "source": [
    "api = tradeapi.REST(\n",
    "    api_key,\n",
    "    alpaca_api_key,\n",
    "    api_version = \"v2\"\n",
    ")"
   ]
  },
  {
   "cell_type": "code",
   "execution_count": 80,
   "metadata": {},
   "outputs": [],
   "source": [
    "alpaca = tradeapi.REST(\n",
    "    alpaca_api_key,\n",
    "    alpaca_secret_key,\n",
    "    api_version =\"v2\"\n",
    ")"
   ]
  },
  {
   "cell_type": "code",
   "execution_count": 81,
   "metadata": {},
   "outputs": [
    {
     "data": {
      "text/plain": [
       "<alpaca_trade_api.rest.REST at 0x7fb321659dd0>"
      ]
     },
     "execution_count": 81,
     "metadata": {},
     "output_type": "execute_result"
    }
   ],
   "source": [
    "alpaca"
   ]
  },
  {
   "cell_type": "markdown",
   "metadata": {},
   "source": [
    "## Part 1 - Personal Finance Planner"
   ]
  },
  {
   "cell_type": "markdown",
   "metadata": {},
   "source": [
    "### Collect Crypto Prices Using the `requests` Library"
   ]
  },
  {
   "cell_type": "code",
   "execution_count": 82,
   "metadata": {},
   "outputs": [],
   "source": [
    "# Set current amount of crypto assets\n",
    "# YOUR CODE HERE!\n",
    "my_btc = 1.2\n",
    "my_eth = 5.3"
   ]
  },
  {
   "cell_type": "code",
   "execution_count": 83,
   "metadata": {},
   "outputs": [],
   "source": [
    "# Crypto API URLs\n",
    "btc_url = \"https://api.alternative.me/v2/ticker/Bitcoin/?convert=USD\"\n",
    "eth_url = \"https://api.alternative.me/v2/ticker/Ethereum/?convert=USD\""
   ]
  },
  {
   "cell_type": "code",
   "execution_count": 84,
   "metadata": {},
   "outputs": [
    {
     "name": "stdout",
     "output_type": "stream",
     "text": [
      "The current value of your 1.2 BTC is $28116.00\n",
      "The current value of your 5.3 ETH is $8817.24\n"
     ]
    }
   ],
   "source": [
    "# Fetch current BTC price\n",
    "# YOUR CODE HERE!\n",
    "\n",
    "# Fetch current ETH price\n",
    "# YOUR CODE HERE!\n",
    "\n",
    "# Compute current value of my crpto\n",
    "# YOUR CODE HERE!\n",
    "\n",
    "# Print current crypto wallet balance\n",
    "btc_response = requests.get(btc_url).json()\n",
    "btc_price = btc_response['data']['1']['quotes']['USD']['price']\n",
    "eth_response = requests.get(eth_url).json()\n",
    "eth_price = eth_response['data']['1027']['quotes']['USD']['price']\n",
    "my_btc_value = my_btc * btc_price\n",
    "my_eth_value = my_eth * eth_price\n",
    "print(f'The current value of your {my_btc} BTC is ${my_btc_value:0.2f}')\n",
    "print(f'The current value of your {my_eth} ETH is ${my_eth_value:0.2f}')"
   ]
  },
  {
   "cell_type": "code",
   "execution_count": null,
   "metadata": {},
   "outputs": [],
   "source": [
    "\n",
    "\n"
   ]
  },
  {
   "cell_type": "code",
   "execution_count": 85,
   "metadata": {},
   "outputs": [
    {
     "name": "stdout",
     "output_type": "stream",
     "text": [
      "The current value of your 1.2 BTC is $28116.00\n",
      "The current value of your 5.3 ETH is $8817.24\n"
     ]
    }
   ],
   "source": [
    "# Fetch current BTC price\n",
    "# YOUR CODE HERE!\n",
    "\n",
    "# Fetch current ETH price\n",
    "# YOUR CODE HERE!\n",
    "\n",
    "# Compute current value of my crpto\n",
    "# YOUR CODE HERE!\n",
    "\n",
    "# Print current crypto wallet balance\n",
    "print(f\"The current value of your {my_btc} BTC is ${my_btc_value:0.2f}\")\n",
    "print(f\"The current value of your {my_eth} ETH is ${my_eth_value:0.2f}\")"
   ]
  },
  {
   "cell_type": "markdown",
   "metadata": {},
   "source": [
    "### Collect Investments Data Using Alpaca: `SPY` (stocks) and `AGG` (bonds)"
   ]
  },
  {
   "cell_type": "code",
   "execution_count": 86,
   "metadata": {},
   "outputs": [],
   "source": [
    "# Set current amount of shares\n",
    "my_agg = 200\n",
    "my_spy = 50"
   ]
  },
  {
   "cell_type": "code",
   "execution_count": 87,
   "metadata": {},
   "outputs": [],
   "source": [
    "# Set Alpaca API key and secret\n",
    "# YOUR CODE HERE!\n",
    "api_key = os.getenv(\"NASDAQ_API_KEY\")\n",
    "alpaca_api_key = os.getenv(\"ALPACA_KEY\")\n",
    "alpaca_secret_key = os.getenv(\"ALPACA_SECRET_KEY\")\n",
    "# Create the Alpaca API object\n",
    "# YOUR CODE HERE!\n",
    "alpaca = tradeapi.REST(\n",
    "    alpaca_api_key,\n",
    "    alpaca_secret_key,\n",
    "    api_version =\"v2\"\n",
    ")"
   ]
  },
  {
   "cell_type": "code",
   "execution_count": 88,
   "metadata": {},
   "outputs": [
    {
     "data": {
      "text/html": [
       "<div>\n",
       "<style scoped>\n",
       "    .dataframe tbody tr th:only-of-type {\n",
       "        vertical-align: middle;\n",
       "    }\n",
       "\n",
       "    .dataframe tbody tr th {\n",
       "        vertical-align: top;\n",
       "    }\n",
       "\n",
       "    .dataframe thead tr th {\n",
       "        text-align: left;\n",
       "    }\n",
       "\n",
       "    .dataframe thead tr:last-of-type th {\n",
       "        text-align: right;\n",
       "    }\n",
       "</style>\n",
       "<table border=\"1\" class=\"dataframe\">\n",
       "  <thead>\n",
       "    <tr>\n",
       "      <th></th>\n",
       "      <th colspan=\"7\" halign=\"left\">SPY</th>\n",
       "      <th colspan=\"7\" halign=\"left\">AGG</th>\n",
       "    </tr>\n",
       "    <tr>\n",
       "      <th></th>\n",
       "      <th>open</th>\n",
       "      <th>high</th>\n",
       "      <th>low</th>\n",
       "      <th>close</th>\n",
       "      <th>volume</th>\n",
       "      <th>trade_count</th>\n",
       "      <th>vwap</th>\n",
       "      <th>open</th>\n",
       "      <th>high</th>\n",
       "      <th>low</th>\n",
       "      <th>close</th>\n",
       "      <th>volume</th>\n",
       "      <th>trade_count</th>\n",
       "      <th>vwap</th>\n",
       "    </tr>\n",
       "    <tr>\n",
       "      <th>timestamp</th>\n",
       "      <th></th>\n",
       "      <th></th>\n",
       "      <th></th>\n",
       "      <th></th>\n",
       "      <th></th>\n",
       "      <th></th>\n",
       "      <th></th>\n",
       "      <th></th>\n",
       "      <th></th>\n",
       "      <th></th>\n",
       "      <th></th>\n",
       "      <th></th>\n",
       "      <th></th>\n",
       "      <th></th>\n",
       "    </tr>\n",
       "  </thead>\n",
       "  <tbody>\n",
       "    <tr>\n",
       "      <th>2023-01-26 05:00:00+00:00</th>\n",
       "      <td>403.13</td>\n",
       "      <td>404.92</td>\n",
       "      <td>400.03</td>\n",
       "      <td>404.75</td>\n",
       "      <td>72307597</td>\n",
       "      <td>521730</td>\n",
       "      <td>402.612043</td>\n",
       "      <td>100.33</td>\n",
       "      <td>100.46</td>\n",
       "      <td>100.07</td>\n",
       "      <td>100.23</td>\n",
       "      <td>5399100</td>\n",
       "      <td>27372</td>\n",
       "      <td>100.278729</td>\n",
       "    </tr>\n",
       "  </tbody>\n",
       "</table>\n",
       "</div>"
      ],
      "text/plain": [
       "                              SPY                                    \\\n",
       "                             open    high     low   close    volume   \n",
       "timestamp                                                             \n",
       "2023-01-26 05:00:00+00:00  403.13  404.92  400.03  404.75  72307597   \n",
       "\n",
       "                                                      AGG                  \\\n",
       "                          trade_count        vwap    open    high     low   \n",
       "timestamp                                                                   \n",
       "2023-01-26 05:00:00+00:00      521730  402.612043  100.33  100.46  100.07   \n",
       "\n",
       "                                                                    \n",
       "                            close   volume trade_count        vwap  \n",
       "timestamp                                                           \n",
       "2023-01-26 05:00:00+00:00  100.23  5399100       27372  100.278729  "
      ]
     },
     "execution_count": 88,
     "metadata": {},
     "output_type": "execute_result"
    }
   ],
   "source": [
    "# Format current date as ISO format\n",
    "# YOUR CODE HERE!\n",
    "start_date = pd.Timestamp(\"2023-01-26\", tz=\"America/New_York\").isoformat()\n",
    "end_date = pd.Timestamp(\"2023-01-26\", tz=\"America/New_York\").isoformat()\n",
    "# Set the tickers\n",
    "tickers = [\"AGG\", \"SPY\"]\n",
    "\n",
    "# Set timeframe to \"1Day\" for Alpaca API\n",
    "timeframe = \"1Day\"\n",
    "\n",
    "# Get current closing prices for SPY and AGG\n",
    "# YOUR CODE HERE!\n",
    "ticker_data = alpaca.get_bars(\n",
    "    tickers,\n",
    "    timeframe,\n",
    "    start=start_date,\n",
    "    end=end_date\n",
    ").df\n",
    "# Reorganize the DataFrame\n",
    "# Separate ticker data\n",
    "# YOUR CODE HERE!\n",
    "SPY = ticker_data[ticker_data['symbol']=='SPY'].drop('symbol', axis=1)\n",
    "AGG = ticker_data[ticker_data['symbol']=='AGG'].drop('symbol', axis=1)\n",
    "\n",
    "# Concatenate the ticker DataFrames\n",
    "# YOUR CODE HERE!\n",
    "ticker_data = pd.concat([SPY, AGG], axis=1, keys=[\"SPY\", \"AGG\"])\n",
    "# Preview DataFrame\n",
    "# YOUR CODE HERE!\n",
    "ticker_data.head()"
   ]
  },
  {
   "cell_type": "code",
   "execution_count": 92,
   "metadata": {},
   "outputs": [
    {
     "name": "stdout",
     "output_type": "stream",
     "text": [
      "Current AGG closing price: $100.23\n",
      "Current SPY closing price: $404.75\n"
     ]
    }
   ],
   "source": [
    "# Pick AGG and SPY close prices\n",
    "# YOUR CODE HERE!\n",
    "agg_close_price = float(ticker_data[\"AGG\"][\"close\"]) \n",
    "spy_close_price = float(ticker_data[\"SPY\"][\"close\"])\n",
    "# Print AGG and SPY close prices\n",
    "print(f\"Current AGG closing price: ${agg_close_price}\")\n",
    "print(f\"Current SPY closing price: ${spy_close_price}\")"
   ]
  },
  {
   "cell_type": "code",
   "execution_count": 93,
   "metadata": {},
   "outputs": [
    {
     "name": "stdout",
     "output_type": "stream",
     "text": [
      "The current value of your 50 SPY shares is $20237.50\n",
      "The current value of your 200 AGG shares is $20046.00\n"
     ]
    }
   ],
   "source": [
    "# Compute the current value of shares\n",
    "# YOUR CODE HERE!\n",
    "my_spy_value = spy_close_price * my_spy \n",
    "my_agg_value = agg_close_price * my_agg\n",
    "# Print current value of shares\n",
    "print(f\"The current value of your {my_spy} SPY shares is ${my_spy_value:0.2f}\")\n",
    "print(f\"The current value of your {my_agg} AGG shares is ${my_agg_value:0.2f}\")"
   ]
  },
  {
   "cell_type": "code",
   "execution_count": 99,
   "metadata": {},
   "outputs": [
    {
     "data": {
      "text/plain": [
       "36933.239"
      ]
     },
     "execution_count": 99,
     "metadata": {},
     "output_type": "execute_result"
    }
   ],
   "source": []
  },
  {
   "cell_type": "markdown",
   "metadata": {},
   "source": [
    "### Savings Health Analysis"
   ]
  },
  {
   "cell_type": "code",
   "execution_count": 103,
   "metadata": {},
   "outputs": [
    {
     "name": "stdout",
     "output_type": "stream",
     "text": [
      "           amount\n",
      "crypto  36933.239\n",
      "shares  36933.239\n"
     ]
    }
   ],
   "source": [
    "# Set monthly household income\n",
    "# YOUR CODE HERE!\n",
    "monthly_income = 12000\n",
    "\n",
    "# Consolidate financial assets data\n",
    "# YOUR CODE HERE!\n",
    "total_share_value = my_spy_value + my_agg_value\n",
    "total_crypto_value = my_btc_value + my_eth_value\n",
    "\n",
    "# Create savings DataFrame\n",
    "# YOUR CODE HERE!\n",
    "data = {'amount':[total_crypto_value, total_crypto_value ]}\n",
    "\n",
    "df_savings = pd.DataFrame(data, index=['crypto', 'shares'])\n",
    "\n",
    "# Display savings DataFrame\n",
    "print(df_savings)"
   ]
  },
  {
   "cell_type": "code",
   "execution_count": 105,
   "metadata": {},
   "outputs": [
    {
     "data": {
      "text/plain": [
       "<AxesSubplot:title={'center':'Asset Portfolio Composition'}, ylabel='amount'>"
      ]
     },
     "execution_count": 105,
     "metadata": {},
     "output_type": "execute_result"
    },
    {
     "data": {
      "image/png": "[encoded data removed]",
      "text/plain": [
       "<Figure size 640x480 with 1 Axes>"
      ]
     },
     "metadata": {},
     "output_type": "display_data"
    }
   ],
   "source": [
    "# Plot savings pie chart\n",
    "# YOUR CODE HERE!\n",
    "df_savings.plot.pie(y=\"amount\", title=\"Asset Portfolio Composition\")\n"
   ]
  },
  {
   "cell_type": "code",
   "execution_count": 109,
   "metadata": {},
   "outputs": [
    {
     "name": "stdout",
     "output_type": "stream",
     "text": [
      "Congrats! You have enough money yay!\n"
     ]
    }
   ],
   "source": [
    "# Set ideal emergency fund\n",
    "emergency_fund = monthly_income * 3\n",
    "\n",
    "# Calculate total amount of savings\n",
    "# YOUR CODE HERE!\n",
    "total_savings = total_crypto_value + total_share_value\n",
    "\n",
    "# Validate saving health\n",
    "# YOUR CODE HERE!\n",
    "if total_savings > emergency_fund:\n",
    "    print(\"Congrats! You have enough money yay!\")\n",
    "\n",
    "elif total_savings == emergency_fund:\n",
    "    print(\"You hit the goal\")\n",
    "\n",
    "else:\n",
    "    amount_away = emergency_fund - total_savings\n",
    "    print(\"you are {} dollars away from the fund goal.\")"
   ]
  },
  {
   "cell_type": "markdown",
   "metadata": {},
   "source": [
    "## Part 2 - Retirement Planning\n",
    "\n",
    "### Monte Carlo Simulation"
   ]
  },
  {
   "cell_type": "code",
   "execution_count": 113,
   "metadata": {},
   "outputs": [],
   "source": [
    "# Set start and end dates of five years back from today.\n",
    "# Sample results may vary from the solution based on the time frame chosen\n",
    "start_date1 = pd.Timestamp('2016-05-01', tz='America/New_York').isoformat()\n",
    "end_date1 = pd.Timestamp('2021-05-01', tz='America/New_York').isoformat()"
   ]
  },
  {
   "cell_type": "code",
   "execution_count": 112,
   "metadata": {},
   "outputs": [
    {
     "name": "stdout",
     "output_type": "stream",
     "text": [
      "1Day\n"
     ]
    }
   ],
   "source": []
  },
  {
   "cell_type": "code",
   "execution_count": 117,
   "metadata": {},
   "outputs": [
    {
     "data": {
      "text/html": [
       "<div>\n",
       "<style scoped>\n",
       "    .dataframe tbody tr th:only-of-type {\n",
       "        vertical-align: middle;\n",
       "    }\n",
       "\n",
       "    .dataframe tbody tr th {\n",
       "        vertical-align: top;\n",
       "    }\n",
       "\n",
       "    .dataframe thead tr th {\n",
       "        text-align: left;\n",
       "    }\n",
       "\n",
       "    .dataframe thead tr:last-of-type th {\n",
       "        text-align: right;\n",
       "    }\n",
       "</style>\n",
       "<table border=\"1\" class=\"dataframe\">\n",
       "  <thead>\n",
       "    <tr>\n",
       "      <th></th>\n",
       "      <th colspan=\"7\" halign=\"left\">SPY</th>\n",
       "      <th colspan=\"7\" halign=\"left\">AGG</th>\n",
       "    </tr>\n",
       "    <tr>\n",
       "      <th></th>\n",
       "      <th>open</th>\n",
       "      <th>high</th>\n",
       "      <th>low</th>\n",
       "      <th>close</th>\n",
       "      <th>volume</th>\n",
       "      <th>trade_count</th>\n",
       "      <th>vwap</th>\n",
       "      <th>open</th>\n",
       "      <th>high</th>\n",
       "      <th>low</th>\n",
       "      <th>close</th>\n",
       "      <th>volume</th>\n",
       "      <th>trade_count</th>\n",
       "      <th>vwap</th>\n",
       "    </tr>\n",
       "    <tr>\n",
       "      <th>timestamp</th>\n",
       "      <th></th>\n",
       "      <th></th>\n",
       "      <th></th>\n",
       "      <th></th>\n",
       "      <th></th>\n",
       "      <th></th>\n",
       "      <th></th>\n",
       "      <th></th>\n",
       "      <th></th>\n",
       "      <th></th>\n",
       "      <th></th>\n",
       "      <th></th>\n",
       "      <th></th>\n",
       "      <th></th>\n",
       "    </tr>\n",
       "  </thead>\n",
       "  <tbody>\n",
       "    <tr>\n",
       "      <th>2016-05-02 04:00:00+00:00</th>\n",
       "      <td>206.92</td>\n",
       "      <td>208.18</td>\n",
       "      <td>206.41</td>\n",
       "      <td>207.9700</td>\n",
       "      <td>61908515</td>\n",
       "      <td>263580</td>\n",
       "      <td>207.294812</td>\n",
       "      <td>110.74</td>\n",
       "      <td>110.7400</td>\n",
       "      <td>110.5200</td>\n",
       "      <td>110.605</td>\n",
       "      <td>3553939</td>\n",
       "      <td>15119</td>\n",
       "      <td>110.627199</td>\n",
       "    </tr>\n",
       "    <tr>\n",
       "      <th>2016-05-03 04:00:00+00:00</th>\n",
       "      <td>206.52</td>\n",
       "      <td>206.80</td>\n",
       "      <td>205.28</td>\n",
       "      <td>206.1592</td>\n",
       "      <td>106422142</td>\n",
       "      <td>377518</td>\n",
       "      <td>206.312060</td>\n",
       "      <td>110.89</td>\n",
       "      <td>110.9450</td>\n",
       "      <td>110.7500</td>\n",
       "      <td>110.810</td>\n",
       "      <td>3044940</td>\n",
       "      <td>15662</td>\n",
       "      <td>110.865995</td>\n",
       "    </tr>\n",
       "    <tr>\n",
       "      <th>2016-05-04 04:00:00+00:00</th>\n",
       "      <td>204.99</td>\n",
       "      <td>205.85</td>\n",
       "      <td>204.42</td>\n",
       "      <td>205.0100</td>\n",
       "      <td>92199810</td>\n",
       "      <td>345261</td>\n",
       "      <td>205.090172</td>\n",
       "      <td>110.91</td>\n",
       "      <td>110.9315</td>\n",
       "      <td>110.7595</td>\n",
       "      <td>110.860</td>\n",
       "      <td>2920608</td>\n",
       "      <td>13982</td>\n",
       "      <td>110.879063</td>\n",
       "    </tr>\n",
       "    <tr>\n",
       "      <th>2016-05-05 04:00:00+00:00</th>\n",
       "      <td>205.56</td>\n",
       "      <td>205.98</td>\n",
       "      <td>204.47</td>\n",
       "      <td>204.9700</td>\n",
       "      <td>67597222</td>\n",
       "      <td>280622</td>\n",
       "      <td>205.141555</td>\n",
       "      <td>110.92</td>\n",
       "      <td>111.1600</td>\n",
       "      <td>110.8010</td>\n",
       "      <td>111.140</td>\n",
       "      <td>3008142</td>\n",
       "      <td>15707</td>\n",
       "      <td>111.028363</td>\n",
       "    </tr>\n",
       "    <tr>\n",
       "      <th>2016-05-06 04:00:00+00:00</th>\n",
       "      <td>204.08</td>\n",
       "      <td>205.77</td>\n",
       "      <td>203.88</td>\n",
       "      <td>205.7200</td>\n",
       "      <td>89131004</td>\n",
       "      <td>340335</td>\n",
       "      <td>204.937074</td>\n",
       "      <td>111.12</td>\n",
       "      <td>111.1200</td>\n",
       "      <td>110.9700</td>\n",
       "      <td>110.970</td>\n",
       "      <td>2718710</td>\n",
       "      <td>12697</td>\n",
       "      <td>111.031967</td>\n",
       "    </tr>\n",
       "  </tbody>\n",
       "</table>\n",
       "</div>"
      ],
      "text/plain": [
       "                              SPY                                       \\\n",
       "                             open    high     low     close     volume   \n",
       "timestamp                                                                \n",
       "2016-05-02 04:00:00+00:00  206.92  208.18  206.41  207.9700   61908515   \n",
       "2016-05-03 04:00:00+00:00  206.52  206.80  205.28  206.1592  106422142   \n",
       "2016-05-04 04:00:00+00:00  204.99  205.85  204.42  205.0100   92199810   \n",
       "2016-05-05 04:00:00+00:00  205.56  205.98  204.47  204.9700   67597222   \n",
       "2016-05-06 04:00:00+00:00  204.08  205.77  203.88  205.7200   89131004   \n",
       "\n",
       "                                                      AGG                      \\\n",
       "                          trade_count        vwap    open      high       low   \n",
       "timestamp                                                                       \n",
       "2016-05-02 04:00:00+00:00      263580  207.294812  110.74  110.7400  110.5200   \n",
       "2016-05-03 04:00:00+00:00      377518  206.312060  110.89  110.9450  110.7500   \n",
       "2016-05-04 04:00:00+00:00      345261  205.090172  110.91  110.9315  110.7595   \n",
       "2016-05-05 04:00:00+00:00      280622  205.141555  110.92  111.1600  110.8010   \n",
       "2016-05-06 04:00:00+00:00      340335  204.937074  111.12  111.1200  110.9700   \n",
       "\n",
       "                                                                     \n",
       "                             close   volume trade_count        vwap  \n",
       "timestamp                                                            \n",
       "2016-05-02 04:00:00+00:00  110.605  3553939       15119  110.627199  \n",
       "2016-05-03 04:00:00+00:00  110.810  3044940       15662  110.865995  \n",
       "2016-05-04 04:00:00+00:00  110.860  2920608       13982  110.879063  \n",
       "2016-05-05 04:00:00+00:00  111.140  3008142       15707  111.028363  \n",
       "2016-05-06 04:00:00+00:00  110.970  2718710       12697  111.031967  "
      ]
     },
     "execution_count": 117,
     "metadata": {},
     "output_type": "execute_result"
    }
   ],
   "source": [
    "# Get 5 years' worth of historical data for SPY and AGG\n",
    "# YOUR CODE HERE!\n",
    "df_stock_data = alpaca.get_bars(\n",
    "    tickers,\n",
    "    timeframe,\n",
    "    start = start_date1,\n",
    "    end = end_date1\n",
    "\n",
    ").df\n",
    "# Reorganize the DataFrame\n",
    "# Separate ticker data\n",
    "# YOUR CODE HERE!\n",
    "SPY = df_stock_data[df_stock_data[\"symbol\"]==\"SPY\"].drop(\"symbol\", axis=1)\n",
    "AGG = df_stock_data[df_stock_data[\"symbol\"]==\"AGG\"].drop(\"symbol\", axis=1)\n",
    "\n",
    "# Concatenate the ticker DataFrames\n",
    "# YOUR CODE HERE!\n",
    "df_stock_data = pd.concat([SPY, AGG], axis=1, keys = [\"SPY\", \"AGG\"] )\n",
    "# Display sample data\n",
    "df_stock_data.head()"
   ]
  },
  {
   "cell_type": "code",
   "execution_count": 121,
   "metadata": {},
   "outputs": [],
   "source": [
    "# Configuring a Monte Carlo simulation to forecast 30 years cumulative returns\n",
    "# YOUR CODE HERE!\n",
    "np.random.seed(1)\n",
    "\n",
    "MC_thirtyyears = MCSimulation(\n",
    "    portfolio_data = df_stock_data,\n",
    "    weights = [.60,.40],\n",
    "    num_simulation = 500,\n",
    "    num_trading_days = 252*30\n",
    ")"
   ]
  },
  {
   "cell_type": "code",
   "execution_count": 122,
   "metadata": {},
   "outputs": [
    {
     "data": {
      "text/html": [
       "<div>\n",
       "<style scoped>\n",
       "    .dataframe tbody tr th:only-of-type {\n",
       "        vertical-align: middle;\n",
       "    }\n",
       "\n",
       "    .dataframe tbody tr th {\n",
       "        vertical-align: top;\n",
       "    }\n",
       "\n",
       "    .dataframe thead tr th {\n",
       "        text-align: left;\n",
       "    }\n",
       "\n",
       "    .dataframe thead tr:last-of-type th {\n",
       "        text-align: right;\n",
       "    }\n",
       "</style>\n",
       "<table border=\"1\" class=\"dataframe\">\n",
       "  <thead>\n",
       "    <tr>\n",
       "      <th></th>\n",
       "      <th colspan=\"8\" halign=\"left\">SPY</th>\n",
       "      <th colspan=\"8\" halign=\"left\">AGG</th>\n",
       "    </tr>\n",
       "    <tr>\n",
       "      <th></th>\n",
       "      <th>open</th>\n",
       "      <th>high</th>\n",
       "      <th>low</th>\n",
       "      <th>close</th>\n",
       "      <th>volume</th>\n",
       "      <th>trade_count</th>\n",
       "      <th>vwap</th>\n",
       "      <th>daily_return</th>\n",
       "      <th>open</th>\n",
       "      <th>high</th>\n",
       "      <th>low</th>\n",
       "      <th>close</th>\n",
       "      <th>volume</th>\n",
       "      <th>trade_count</th>\n",
       "      <th>vwap</th>\n",
       "      <th>daily_return</th>\n",
       "    </tr>\n",
       "    <tr>\n",
       "      <th>timestamp</th>\n",
       "      <th></th>\n",
       "      <th></th>\n",
       "      <th></th>\n",
       "      <th></th>\n",
       "      <th></th>\n",
       "      <th></th>\n",
       "      <th></th>\n",
       "      <th></th>\n",
       "      <th></th>\n",
       "      <th></th>\n",
       "      <th></th>\n",
       "      <th></th>\n",
       "      <th></th>\n",
       "      <th></th>\n",
       "      <th></th>\n",
       "      <th></th>\n",
       "    </tr>\n",
       "  </thead>\n",
       "  <tbody>\n",
       "    <tr>\n",
       "      <th>2021-04-26 04:00:00+00:00</th>\n",
       "      <td>417.44</td>\n",
       "      <td>418.22</td>\n",
       "      <td>416.8111</td>\n",
       "      <td>417.61</td>\n",
       "      <td>51824860</td>\n",
       "      <td>295870</td>\n",
       "      <td>417.508245</td>\n",
       "      <td>0.002088</td>\n",
       "      <td>114.74</td>\n",
       "      <td>114.8015</td>\n",
       "      <td>114.65</td>\n",
       "      <td>114.65</td>\n",
       "      <td>3480303</td>\n",
       "      <td>13520</td>\n",
       "      <td>114.706244</td>\n",
       "      <td>-0.000871</td>\n",
       "    </tr>\n",
       "    <tr>\n",
       "      <th>2021-04-27 04:00:00+00:00</th>\n",
       "      <td>417.93</td>\n",
       "      <td>418.14</td>\n",
       "      <td>416.3000</td>\n",
       "      <td>417.52</td>\n",
       "      <td>50297139</td>\n",
       "      <td>296300</td>\n",
       "      <td>417.481360</td>\n",
       "      <td>-0.000216</td>\n",
       "      <td>115.13</td>\n",
       "      <td>115.1300</td>\n",
       "      <td>114.37</td>\n",
       "      <td>114.37</td>\n",
       "      <td>3820640</td>\n",
       "      <td>12720</td>\n",
       "      <td>114.498315</td>\n",
       "      <td>-0.002442</td>\n",
       "    </tr>\n",
       "    <tr>\n",
       "      <th>2021-04-28 04:00:00+00:00</th>\n",
       "      <td>417.81</td>\n",
       "      <td>419.01</td>\n",
       "      <td>416.9000</td>\n",
       "      <td>417.40</td>\n",
       "      <td>50692781</td>\n",
       "      <td>330049</td>\n",
       "      <td>417.742098</td>\n",
       "      <td>-0.000287</td>\n",
       "      <td>114.45</td>\n",
       "      <td>114.4685</td>\n",
       "      <td>114.20</td>\n",
       "      <td>114.43</td>\n",
       "      <td>7075831</td>\n",
       "      <td>24303</td>\n",
       "      <td>114.379810</td>\n",
       "      <td>0.000525</td>\n",
       "    </tr>\n",
       "    <tr>\n",
       "      <th>2021-04-29 04:00:00+00:00</th>\n",
       "      <td>420.32</td>\n",
       "      <td>420.72</td>\n",
       "      <td>416.4400</td>\n",
       "      <td>420.06</td>\n",
       "      <td>76965583</td>\n",
       "      <td>443396</td>\n",
       "      <td>418.824046</td>\n",
       "      <td>0.006373</td>\n",
       "      <td>114.14</td>\n",
       "      <td>114.3700</td>\n",
       "      <td>114.09</td>\n",
       "      <td>114.37</td>\n",
       "      <td>6208142</td>\n",
       "      <td>21096</td>\n",
       "      <td>114.250702</td>\n",
       "      <td>-0.000524</td>\n",
       "    </tr>\n",
       "    <tr>\n",
       "      <th>2021-04-30 04:00:00+00:00</th>\n",
       "      <td>417.63</td>\n",
       "      <td>418.54</td>\n",
       "      <td>416.3400</td>\n",
       "      <td>417.30</td>\n",
       "      <td>84731942</td>\n",
       "      <td>478844</td>\n",
       "      <td>417.651995</td>\n",
       "      <td>-0.006570</td>\n",
       "      <td>114.41</td>\n",
       "      <td>114.5150</td>\n",
       "      <td>114.33</td>\n",
       "      <td>114.49</td>\n",
       "      <td>6469432</td>\n",
       "      <td>19582</td>\n",
       "      <td>114.456246</td>\n",
       "      <td>0.001049</td>\n",
       "    </tr>\n",
       "  </tbody>\n",
       "</table>\n",
       "</div>"
      ],
      "text/plain": [
       "                              SPY                                      \\\n",
       "                             open    high       low   close    volume   \n",
       "timestamp                                                               \n",
       "2021-04-26 04:00:00+00:00  417.44  418.22  416.8111  417.61  51824860   \n",
       "2021-04-27 04:00:00+00:00  417.93  418.14  416.3000  417.52  50297139   \n",
       "2021-04-28 04:00:00+00:00  417.81  419.01  416.9000  417.40  50692781   \n",
       "2021-04-29 04:00:00+00:00  420.32  420.72  416.4400  420.06  76965583   \n",
       "2021-04-30 04:00:00+00:00  417.63  418.54  416.3400  417.30  84731942   \n",
       "\n",
       "                                                                   AGG  \\\n",
       "                          trade_count        vwap daily_return    open   \n",
       "timestamp                                                                \n",
       "2021-04-26 04:00:00+00:00      295870  417.508245     0.002088  114.74   \n",
       "2021-04-27 04:00:00+00:00      296300  417.481360    -0.000216  115.13   \n",
       "2021-04-28 04:00:00+00:00      330049  417.742098    -0.000287  114.45   \n",
       "2021-04-29 04:00:00+00:00      443396  418.824046     0.006373  114.14   \n",
       "2021-04-30 04:00:00+00:00      478844  417.651995    -0.006570  114.41   \n",
       "\n",
       "                                                                          \\\n",
       "                               high     low   close   volume trade_count   \n",
       "timestamp                                                                  \n",
       "2021-04-26 04:00:00+00:00  114.8015  114.65  114.65  3480303       13520   \n",
       "2021-04-27 04:00:00+00:00  115.1300  114.37  114.37  3820640       12720   \n",
       "2021-04-28 04:00:00+00:00  114.4685  114.20  114.43  7075831       24303   \n",
       "2021-04-29 04:00:00+00:00  114.3700  114.09  114.37  6208142       21096   \n",
       "2021-04-30 04:00:00+00:00  114.5150  114.33  114.49  6469432       19582   \n",
       "\n",
       "                                                    \n",
       "                                 vwap daily_return  \n",
       "timestamp                                           \n",
       "2021-04-26 04:00:00+00:00  114.706244    -0.000871  \n",
       "2021-04-27 04:00:00+00:00  114.498315    -0.002442  \n",
       "2021-04-28 04:00:00+00:00  114.379810     0.000525  \n",
       "2021-04-29 04:00:00+00:00  114.250702    -0.000524  \n",
       "2021-04-30 04:00:00+00:00  114.456246     0.001049  "
      ]
     },
     "execution_count": 122,
     "metadata": {},
     "output_type": "execute_result"
    }
   ],
   "source": [
    "# Printing the simulation input data\n",
    "# YOUR CODE HERE!\n",
    "MC_thirtyyears.portfolio_data.tail()"
   ]
  },
  {
   "cell_type": "code",
   "execution_count": 123,
   "metadata": {},
   "outputs": [
    {
     "name": "stdout",
     "output_type": "stream",
     "text": [
      "Running Monte Carlo simulation number 0.\n",
      "Running Monte Carlo simulation number 10.\n",
      "Running Monte Carlo simulation number 20.\n",
      "Running Monte Carlo simulation number 30.\n",
      "Running Monte Carlo simulation number 40.\n",
      "Running Monte Carlo simulation number 50.\n",
      "Running Monte Carlo simulation number 60.\n",
      "Running Monte Carlo simulation number 70.\n",
      "Running Monte Carlo simulation number 80.\n",
      "Running Monte Carlo simulation number 90.\n",
      "Running Monte Carlo simulation number 100.\n"
     ]
    },
    {
     "name": "stderr",
     "output_type": "stream",
     "text": [
      "/Users/nidalsinan/Desktop/Fintech/Module_5_HW/Instructions/Starter_Code/MCForecastTools.py:117: PerformanceWarning: DataFrame is highly fragmented.  This is usually the result of calling `frame.insert` many times, which has poor performance.  Consider joining all columns at once using pd.concat(axis=1) instead.  To get a de-fragmented frame, use `newframe = frame.copy()`\n",
      "  portfolio_cumulative_returns[n] = (1 + sim_df.fillna(0)).cumprod()\n"
     ]
    },
    {
     "name": "stdout",
     "output_type": "stream",
     "text": [
      "Running Monte Carlo simulation number 110.\n",
      "Running Monte Carlo simulation number 120.\n",
      "Running Monte Carlo simulation number 130.\n",
      "Running Monte Carlo simulation number 140.\n",
      "Running Monte Carlo simulation number 150.\n",
      "Running Monte Carlo simulation number 160.\n",
      "Running Monte Carlo simulation number 170.\n",
      "Running Monte Carlo simulation number 180.\n",
      "Running Monte Carlo simulation number 190.\n",
      "Running Monte Carlo simulation number 200.\n",
      "Running Monte Carlo simulation number 210.\n",
      "Running Monte Carlo simulation number 220.\n",
      "Running Monte Carlo simulation number 230.\n",
      "Running Monte Carlo simulation number 240.\n",
      "Running Monte Carlo simulation number 250.\n",
      "Running Monte Carlo simulation number 260.\n",
      "Running Monte Carlo simulation number 270.\n",
      "Running Monte Carlo simulation number 280.\n",
      "Running Monte Carlo simulation number 290.\n",
      "Running Monte Carlo simulation number 300.\n",
      "Running Monte Carlo simulation number 310.\n",
      "Running Monte Carlo simulation number 320.\n",
      "Running Monte Carlo simulation number 330.\n",
      "Running Monte Carlo simulation number 340.\n",
      "Running Monte Carlo simulation number 350.\n",
      "Running Monte Carlo simulation number 360.\n",
      "Running Monte Carlo simulation number 370.\n",
      "Running Monte Carlo simulation number 380.\n",
      "Running Monte Carlo simulation number 390.\n",
      "Running Monte Carlo simulation number 400.\n",
      "Running Monte Carlo simulation number 410.\n",
      "Running Monte Carlo simulation number 420.\n",
      "Running Monte Carlo simulation number 430.\n",
      "Running Monte Carlo simulation number 440.\n",
      "Running Monte Carlo simulation number 450.\n",
      "Running Monte Carlo simulation number 460.\n",
      "Running Monte Carlo simulation number 470.\n",
      "Running Monte Carlo simulation number 480.\n",
      "Running Monte Carlo simulation number 490.\n"
     ]
    },
    {
     "data": {
      "text/html": [
       "<div>\n",
       "<style scoped>\n",
       "    .dataframe tbody tr th:only-of-type {\n",
       "        vertical-align: middle;\n",
       "    }\n",
       "\n",
       "    .dataframe tbody tr th {\n",
       "        vertical-align: top;\n",
       "    }\n",
       "\n",
       "    .dataframe thead th {\n",
       "        text-align: right;\n",
       "    }\n",
       "</style>\n",
       "<table border=\"1\" class=\"dataframe\">\n",
       "  <thead>\n",
       "    <tr style=\"text-align: right;\">\n",
       "      <th></th>\n",
       "      <th>0</th>\n",
       "      <th>1</th>\n",
       "      <th>2</th>\n",
       "      <th>3</th>\n",
       "      <th>4</th>\n",
       "      <th>5</th>\n",
       "      <th>6</th>\n",
       "      <th>7</th>\n",
       "      <th>8</th>\n",
       "      <th>9</th>\n",
       "      <th>...</th>\n",
       "      <th>490</th>\n",
       "      <th>491</th>\n",
       "      <th>492</th>\n",
       "      <th>493</th>\n",
       "      <th>494</th>\n",
       "      <th>495</th>\n",
       "      <th>496</th>\n",
       "      <th>497</th>\n",
       "      <th>498</th>\n",
       "      <th>499</th>\n",
       "    </tr>\n",
       "  </thead>\n",
       "  <tbody>\n",
       "    <tr>\n",
       "      <th>0</th>\n",
       "      <td>1.000000</td>\n",
       "      <td>1.000000</td>\n",
       "      <td>1.000000</td>\n",
       "      <td>1.000000</td>\n",
       "      <td>1.000000</td>\n",
       "      <td>1.000000</td>\n",
       "      <td>1.000000</td>\n",
       "      <td>1.000000</td>\n",
       "      <td>1.000000</td>\n",
       "      <td>1.000000</td>\n",
       "      <td>...</td>\n",
       "      <td>1.000000</td>\n",
       "      <td>1.000000</td>\n",
       "      <td>1.000000</td>\n",
       "      <td>1.000000</td>\n",
       "      <td>1.000000</td>\n",
       "      <td>1.000000</td>\n",
       "      <td>1.000000</td>\n",
       "      <td>1.000000</td>\n",
       "      <td>1.000000</td>\n",
       "      <td>1.000000</td>\n",
       "    </tr>\n",
       "    <tr>\n",
       "      <th>1</th>\n",
       "      <td>1.012428</td>\n",
       "      <td>1.005946</td>\n",
       "      <td>1.009927</td>\n",
       "      <td>0.997955</td>\n",
       "      <td>0.985190</td>\n",
       "      <td>1.011482</td>\n",
       "      <td>1.007932</td>\n",
       "      <td>0.997655</td>\n",
       "      <td>1.006324</td>\n",
       "      <td>0.999273</td>\n",
       "      <td>...</td>\n",
       "      <td>0.994540</td>\n",
       "      <td>1.004203</td>\n",
       "      <td>0.996076</td>\n",
       "      <td>1.014856</td>\n",
       "      <td>0.998674</td>\n",
       "      <td>0.998015</td>\n",
       "      <td>0.996735</td>\n",
       "      <td>0.999454</td>\n",
       "      <td>1.000161</td>\n",
       "      <td>1.003213</td>\n",
       "    </tr>\n",
       "    <tr>\n",
       "      <th>2</th>\n",
       "      <td>1.009632</td>\n",
       "      <td>1.011344</td>\n",
       "      <td>1.003243</td>\n",
       "      <td>0.987208</td>\n",
       "      <td>0.986703</td>\n",
       "      <td>1.012484</td>\n",
       "      <td>1.001414</td>\n",
       "      <td>0.998632</td>\n",
       "      <td>0.996536</td>\n",
       "      <td>1.000799</td>\n",
       "      <td>...</td>\n",
       "      <td>0.990013</td>\n",
       "      <td>1.013556</td>\n",
       "      <td>0.997190</td>\n",
       "      <td>1.018974</td>\n",
       "      <td>1.005074</td>\n",
       "      <td>0.994189</td>\n",
       "      <td>1.001449</td>\n",
       "      <td>1.009505</td>\n",
       "      <td>1.007696</td>\n",
       "      <td>1.011728</td>\n",
       "    </tr>\n",
       "    <tr>\n",
       "      <th>3</th>\n",
       "      <td>1.007865</td>\n",
       "      <td>1.011225</td>\n",
       "      <td>0.998735</td>\n",
       "      <td>0.986507</td>\n",
       "      <td>0.997192</td>\n",
       "      <td>1.018897</td>\n",
       "      <td>1.000734</td>\n",
       "      <td>0.997649</td>\n",
       "      <td>0.998582</td>\n",
       "      <td>1.001427</td>\n",
       "      <td>...</td>\n",
       "      <td>0.989299</td>\n",
       "      <td>1.021105</td>\n",
       "      <td>0.998675</td>\n",
       "      <td>1.038214</td>\n",
       "      <td>1.000865</td>\n",
       "      <td>0.992892</td>\n",
       "      <td>0.995727</td>\n",
       "      <td>1.012560</td>\n",
       "      <td>1.011871</td>\n",
       "      <td>1.014884</td>\n",
       "    </tr>\n",
       "    <tr>\n",
       "      <th>4</th>\n",
       "      <td>1.001223</td>\n",
       "      <td>1.020189</td>\n",
       "      <td>0.989956</td>\n",
       "      <td>0.990810</td>\n",
       "      <td>1.004155</td>\n",
       "      <td>1.022135</td>\n",
       "      <td>1.020364</td>\n",
       "      <td>0.995235</td>\n",
       "      <td>0.993771</td>\n",
       "      <td>1.003731</td>\n",
       "      <td>...</td>\n",
       "      <td>0.994213</td>\n",
       "      <td>1.019369</td>\n",
       "      <td>1.002822</td>\n",
       "      <td>1.039082</td>\n",
       "      <td>0.986285</td>\n",
       "      <td>0.989848</td>\n",
       "      <td>0.982599</td>\n",
       "      <td>1.007322</td>\n",
       "      <td>1.009947</td>\n",
       "      <td>1.000394</td>\n",
       "    </tr>\n",
       "    <tr>\n",
       "      <th>...</th>\n",
       "      <td>...</td>\n",
       "      <td>...</td>\n",
       "      <td>...</td>\n",
       "      <td>...</td>\n",
       "      <td>...</td>\n",
       "      <td>...</td>\n",
       "      <td>...</td>\n",
       "      <td>...</td>\n",
       "      <td>...</td>\n",
       "      <td>...</td>\n",
       "      <td>...</td>\n",
       "      <td>...</td>\n",
       "      <td>...</td>\n",
       "      <td>...</td>\n",
       "      <td>...</td>\n",
       "      <td>...</td>\n",
       "      <td>...</td>\n",
       "      <td>...</td>\n",
       "      <td>...</td>\n",
       "      <td>...</td>\n",
       "      <td>...</td>\n",
       "    </tr>\n",
       "    <tr>\n",
       "      <th>7556</th>\n",
       "      <td>22.438797</td>\n",
       "      <td>11.452782</td>\n",
       "      <td>56.433559</td>\n",
       "      <td>9.323685</td>\n",
       "      <td>6.874690</td>\n",
       "      <td>24.377262</td>\n",
       "      <td>41.076542</td>\n",
       "      <td>9.699174</td>\n",
       "      <td>46.994392</td>\n",
       "      <td>11.177521</td>\n",
       "      <td>...</td>\n",
       "      <td>13.065200</td>\n",
       "      <td>15.332038</td>\n",
       "      <td>26.616493</td>\n",
       "      <td>4.236155</td>\n",
       "      <td>7.788274</td>\n",
       "      <td>37.425991</td>\n",
       "      <td>13.338797</td>\n",
       "      <td>6.907877</td>\n",
       "      <td>3.042057</td>\n",
       "      <td>10.430177</td>\n",
       "    </tr>\n",
       "    <tr>\n",
       "      <th>7557</th>\n",
       "      <td>22.338983</td>\n",
       "      <td>11.492943</td>\n",
       "      <td>56.319252</td>\n",
       "      <td>9.339179</td>\n",
       "      <td>6.888736</td>\n",
       "      <td>24.038861</td>\n",
       "      <td>41.429637</td>\n",
       "      <td>9.546343</td>\n",
       "      <td>46.633198</td>\n",
       "      <td>11.294706</td>\n",
       "      <td>...</td>\n",
       "      <td>13.343081</td>\n",
       "      <td>15.370404</td>\n",
       "      <td>26.701994</td>\n",
       "      <td>4.253614</td>\n",
       "      <td>7.766729</td>\n",
       "      <td>37.654161</td>\n",
       "      <td>13.337292</td>\n",
       "      <td>6.920459</td>\n",
       "      <td>3.024859</td>\n",
       "      <td>10.511063</td>\n",
       "    </tr>\n",
       "    <tr>\n",
       "      <th>7558</th>\n",
       "      <td>22.347156</td>\n",
       "      <td>11.494350</td>\n",
       "      <td>55.995735</td>\n",
       "      <td>9.305402</td>\n",
       "      <td>6.866153</td>\n",
       "      <td>23.994402</td>\n",
       "      <td>41.679880</td>\n",
       "      <td>9.561297</td>\n",
       "      <td>46.628962</td>\n",
       "      <td>11.435291</td>\n",
       "      <td>...</td>\n",
       "      <td>13.213534</td>\n",
       "      <td>15.182160</td>\n",
       "      <td>26.819389</td>\n",
       "      <td>4.253656</td>\n",
       "      <td>7.844361</td>\n",
       "      <td>37.939127</td>\n",
       "      <td>13.147506</td>\n",
       "      <td>6.983937</td>\n",
       "      <td>3.007409</td>\n",
       "      <td>10.440531</td>\n",
       "    </tr>\n",
       "    <tr>\n",
       "      <th>7559</th>\n",
       "      <td>22.186820</td>\n",
       "      <td>11.632989</td>\n",
       "      <td>56.412677</td>\n",
       "      <td>9.063233</td>\n",
       "      <td>6.924800</td>\n",
       "      <td>24.026493</td>\n",
       "      <td>42.326648</td>\n",
       "      <td>9.729769</td>\n",
       "      <td>46.898060</td>\n",
       "      <td>11.435947</td>\n",
       "      <td>...</td>\n",
       "      <td>13.227967</td>\n",
       "      <td>15.309498</td>\n",
       "      <td>26.537589</td>\n",
       "      <td>4.253468</td>\n",
       "      <td>7.744677</td>\n",
       "      <td>38.347798</td>\n",
       "      <td>13.023481</td>\n",
       "      <td>6.993488</td>\n",
       "      <td>2.993174</td>\n",
       "      <td>10.438117</td>\n",
       "    </tr>\n",
       "    <tr>\n",
       "      <th>7560</th>\n",
       "      <td>22.129939</td>\n",
       "      <td>11.597335</td>\n",
       "      <td>56.132015</td>\n",
       "      <td>9.212578</td>\n",
       "      <td>7.003078</td>\n",
       "      <td>24.127131</td>\n",
       "      <td>42.511047</td>\n",
       "      <td>9.645077</td>\n",
       "      <td>46.432396</td>\n",
       "      <td>11.478531</td>\n",
       "      <td>...</td>\n",
       "      <td>13.150137</td>\n",
       "      <td>15.268452</td>\n",
       "      <td>26.565879</td>\n",
       "      <td>4.222948</td>\n",
       "      <td>7.776447</td>\n",
       "      <td>38.151618</td>\n",
       "      <td>13.093754</td>\n",
       "      <td>6.982274</td>\n",
       "      <td>3.009969</td>\n",
       "      <td>10.537295</td>\n",
       "    </tr>\n",
       "  </tbody>\n",
       "</table>\n",
       "<p>7561 rows × 500 columns</p>\n",
       "</div>"
      ],
      "text/plain": [
       "            0          1          2         3         4          5    \\\n",
       "0      1.000000   1.000000   1.000000  1.000000  1.000000   1.000000   \n",
       "1      1.012428   1.005946   1.009927  0.997955  0.985190   1.011482   \n",
       "2      1.009632   1.011344   1.003243  0.987208  0.986703   1.012484   \n",
       "3      1.007865   1.011225   0.998735  0.986507  0.997192   1.018897   \n",
       "4      1.001223   1.020189   0.989956  0.990810  1.004155   1.022135   \n",
       "...         ...        ...        ...       ...       ...        ...   \n",
       "7556  22.438797  11.452782  56.433559  9.323685  6.874690  24.377262   \n",
       "7557  22.338983  11.492943  56.319252  9.339179  6.888736  24.038861   \n",
       "7558  22.347156  11.494350  55.995735  9.305402  6.866153  23.994402   \n",
       "7559  22.186820  11.632989  56.412677  9.063233  6.924800  24.026493   \n",
       "7560  22.129939  11.597335  56.132015  9.212578  7.003078  24.127131   \n",
       "\n",
       "            6         7          8          9    ...        490        491  \\\n",
       "0      1.000000  1.000000   1.000000   1.000000  ...   1.000000   1.000000   \n",
       "1      1.007932  0.997655   1.006324   0.999273  ...   0.994540   1.004203   \n",
       "2      1.001414  0.998632   0.996536   1.000799  ...   0.990013   1.013556   \n",
       "3      1.000734  0.997649   0.998582   1.001427  ...   0.989299   1.021105   \n",
       "4      1.020364  0.995235   0.993771   1.003731  ...   0.994213   1.019369   \n",
       "...         ...       ...        ...        ...  ...        ...        ...   \n",
       "7556  41.076542  9.699174  46.994392  11.177521  ...  13.065200  15.332038   \n",
       "7557  41.429637  9.546343  46.633198  11.294706  ...  13.343081  15.370404   \n",
       "7558  41.679880  9.561297  46.628962  11.435291  ...  13.213534  15.182160   \n",
       "7559  42.326648  9.729769  46.898060  11.435947  ...  13.227967  15.309498   \n",
       "7560  42.511047  9.645077  46.432396  11.478531  ...  13.150137  15.268452   \n",
       "\n",
       "            492       493       494        495        496       497       498  \\\n",
       "0      1.000000  1.000000  1.000000   1.000000   1.000000  1.000000  1.000000   \n",
       "1      0.996076  1.014856  0.998674   0.998015   0.996735  0.999454  1.000161   \n",
       "2      0.997190  1.018974  1.005074   0.994189   1.001449  1.009505  1.007696   \n",
       "3      0.998675  1.038214  1.000865   0.992892   0.995727  1.012560  1.011871   \n",
       "4      1.002822  1.039082  0.986285   0.989848   0.982599  1.007322  1.009947   \n",
       "...         ...       ...       ...        ...        ...       ...       ...   \n",
       "7556  26.616493  4.236155  7.788274  37.425991  13.338797  6.907877  3.042057   \n",
       "7557  26.701994  4.253614  7.766729  37.654161  13.337292  6.920459  3.024859   \n",
       "7558  26.819389  4.253656  7.844361  37.939127  13.147506  6.983937  3.007409   \n",
       "7559  26.537589  4.253468  7.744677  38.347798  13.023481  6.993488  2.993174   \n",
       "7560  26.565879  4.222948  7.776447  38.151618  13.093754  6.982274  3.009969   \n",
       "\n",
       "            499  \n",
       "0      1.000000  \n",
       "1      1.003213  \n",
       "2      1.011728  \n",
       "3      1.014884  \n",
       "4      1.000394  \n",
       "...         ...  \n",
       "7556  10.430177  \n",
       "7557  10.511063  \n",
       "7558  10.440531  \n",
       "7559  10.438117  \n",
       "7560  10.537295  \n",
       "\n",
       "[7561 rows x 500 columns]"
      ]
     },
     "execution_count": 123,
     "metadata": {},
     "output_type": "execute_result"
    }
   ],
   "source": [
    "# Running a Monte Carlo simulation to forecast 30 years cumulative returns\n",
    "# YOUR CODE HERE!\n",
    "MC_thirtyyears.calc_cumulative_return()"
   ]
  },
  {
   "cell_type": "code",
   "execution_count": 125,
   "metadata": {},
   "outputs": [
    {
     "data": {
      "image/png": "[encoded data removed]",
      "text/plain": [
       "<Figure size 640x480 with 1 Axes>"
      ]
     },
     "metadata": {},
     "output_type": "display_data"
    }
   ],
   "source": [
    "# Plot simulation outcomes\n",
    "# YOUR CODE HERE!\n",
    "line_plot = MC_thirtyyears.plot_simulation()\n",
    "line_plot.get_figure().savefig(\"MC_thirtyyears.png\", bbox_inches=\"tight\")"
   ]
  },
  {
   "cell_type": "code",
   "execution_count": 126,
   "metadata": {},
   "outputs": [
    {
     "data": {
      "image/png": "[encoded data removed]",
      "text/plain": [
       "<Figure size 640x480 with 1 Axes>"
      ]
     },
     "metadata": {},
     "output_type": "display_data"
    }
   ],
   "source": [
    "# Plot probability distribution and confidence intervals\n",
    "# YOUR CODE HERE!\n",
    "dist_plot = MC_thirtyyears.plot_distribution()\n",
    "dist_plot.get_figure().savefig('MC_thirtyyears.png',bbox_inches='tight')"
   ]
  },
  {
   "cell_type": "markdown",
   "metadata": {},
   "source": [
    "### Retirement Analysis"
   ]
  },
  {
   "cell_type": "code",
   "execution_count": 127,
   "metadata": {},
   "outputs": [
    {
     "name": "stdout",
     "output_type": "stream",
     "text": [
      "count           500.000000\n",
      "mean             18.062068\n",
      "std              12.953152\n",
      "min               2.466084\n",
      "25%              10.242755\n",
      "50%              14.619850\n",
      "75%              21.960896\n",
      "max             109.376639\n",
      "95% CI Lower      4.505404\n",
      "95% CI Upper     48.208847\n",
      "Name: 7560, dtype: float64\n"
     ]
    }
   ],
   "source": [
    "# Fetch summary statistics from the Monte Carlo simulation results\n",
    "# YOUR CODE HERE!\n",
    "tbl = MC_thirtyyears.summarize_cumulative_return()\n",
    "# Print summary statistics\n",
    "# YOUR CODE HERE!\n",
    "print(tbl)"
   ]
  },
  {
   "cell_type": "markdown",
   "metadata": {},
   "source": [
    "### Calculate the expected portfolio return at the `95%` lower and upper confidence intervals based on a `$20,000` initial investment."
   ]
  },
  {
   "cell_type": "code",
   "execution_count": 128,
   "metadata": {},
   "outputs": [
    {
     "name": "stdout",
     "output_type": "stream",
     "text": [
      "There is a 95% chance that an initial investment of $20000 in the portfolio over the next 30 years will end within in the range of $90108.08 and $964176.95\n"
     ]
    }
   ],
   "source": [
    "# Set initial investment\n",
    "initial_investment = 20000\n",
    "\n",
    "# Use the lower and upper `95%` confidence intervals to calculate the range of the possible outcomes of our $20,000\n",
    "# YOUR CODE HERE!\n",
    "ci_lower = round(tbl[8]*20000,2)\n",
    "ci_upper = round(tbl[9]*20000,2)\n",
    "# Print results\n",
    "print(f\"There is a 95% chance that an initial investment of ${initial_investment} in the portfolio\"\n",
    "      f\" over the next 30 years will end within in the range of\"\n",
    "      f\" ${ci_lower} and ${ci_upper}\")"
   ]
  },
  {
   "cell_type": "markdown",
   "metadata": {},
   "source": [
    "### Calculate the expected portfolio return at the `95%` lower and upper confidence intervals based on a `50%` increase in the initial investment."
   ]
  },
  {
   "cell_type": "code",
   "execution_count": 129,
   "metadata": {},
   "outputs": [
    {
     "name": "stdout",
     "output_type": "stream",
     "text": [
      "There is a 95% chance that an initial investment of $30000.0 in the portfolio over the next 30 years will end within in the range of $135162.12 and $1446265.42\n"
     ]
    }
   ],
   "source": [
    "# Set initial investment\n",
    "initial_investment = 20000 * 1.5\n",
    "\n",
    "# Use the lower and upper `95%` confidence intervals to calculate the range of the possible outcomes of our $30,000\n",
    "# YOUR CODE HERE!\n",
    "ci_lower = round(tbl[8]*30000,2)\n",
    "ci_upper = round(tbl[9]*30000,2)\n",
    "# Print results\n",
    "print(f\"There is a 95% chance that an initial investment of ${initial_investment} in the portfolio\"\n",
    "      f\" over the next 30 years will end within in the range of\"\n",
    "      f\" ${ci_lower} and ${ci_upper}\")"
   ]
  },
  {
   "cell_type": "markdown",
   "metadata": {},
   "source": [
    "## Optional Challenge - Early Retirement\n",
    "\n",
    "\n",
    "### Five Years Retirement Option"
   ]
  },
  {
   "cell_type": "code",
   "execution_count": null,
   "metadata": {},
   "outputs": [],
   "source": [
    "# Configuring a Monte Carlo simulation to forecast 5 years cumulative returns\n",
    "# YOUR CODE HERE!"
   ]
  },
  {
   "cell_type": "code",
   "execution_count": null,
   "metadata": {},
   "outputs": [],
   "source": [
    "# Running a Monte Carlo simulation to forecast 5 years cumulative returns\n",
    "# YOUR CODE HERE!"
   ]
  },
  {
   "cell_type": "code",
   "execution_count": null,
   "metadata": {},
   "outputs": [],
   "source": [
    "# Plot simulation outcomes\n",
    "# YOUR CODE HERE!"
   ]
  },
  {
   "cell_type": "code",
   "execution_count": null,
   "metadata": {},
   "outputs": [],
   "source": [
    "# Plot probability distribution and confidence intervals\n",
    "# YOUR CODE HERE!"
   ]
  },
  {
   "cell_type": "code",
   "execution_count": null,
   "metadata": {},
   "outputs": [],
   "source": [
    "# Fetch summary statistics from the Monte Carlo simulation results\n",
    "# YOUR CODE HERE!\n",
    "\n",
    "# Print summary statistics\n",
    "# YOUR CODE HERE!"
   ]
  },
  {
   "cell_type": "code",
   "execution_count": null,
   "metadata": {},
   "outputs": [],
   "source": [
    "# Set initial investment\n",
    "# YOUR CODE HERE!\n",
    "\n",
    "# Use the lower and upper `95%` confidence intervals to calculate the range of the possible outcomes of our $60,000\n",
    "# YOUR CODE HERE!\n",
    "\n",
    "# Print results\n",
    "print(f\"There is a 95% chance that an initial investment of ${initial_investment} in the portfolio\"\n",
    "      f\" over the next 5 years will end within in the range of\"\n",
    "      f\" ${ci_lower_five} and ${ci_upper_five}\")"
   ]
  },
  {
   "cell_type": "markdown",
   "metadata": {},
   "source": [
    "### Ten Years Retirement Option"
   ]
  },
  {
   "cell_type": "code",
   "execution_count": null,
   "metadata": {},
   "outputs": [],
   "source": [
    "# Configuring a Monte Carlo simulation to forecast 10 years cumulative returns\n",
    "# YOUR CODE HERE!"
   ]
  },
  {
   "cell_type": "code",
   "execution_count": null,
   "metadata": {},
   "outputs": [],
   "source": [
    "# Running a Monte Carlo simulation to forecast 10 years cumulative returns\n",
    "# YOUR CODE HERE!"
   ]
  },
  {
   "cell_type": "code",
   "execution_count": null,
   "metadata": {},
   "outputs": [],
   "source": [
    "# Plot simulation outcomes\n",
    "# YOUR CODE HERE!"
   ]
  },
  {
   "cell_type": "code",
   "execution_count": null,
   "metadata": {},
   "outputs": [],
   "source": [
    "# Plot probability distribution and confidence intervals\n",
    "# YOUR CODE HERE!"
   ]
  },
  {
   "cell_type": "code",
   "execution_count": null,
   "metadata": {},
   "outputs": [],
   "source": [
    "# Fetch summary statistics from the Monte Carlo simulation results\n",
    "# YOUR CODE HERE!\n",
    "\n",
    "# Print summary statistics\n",
    "# YOUR CODE HERE!"
   ]
  },
  {
   "cell_type": "code",
   "execution_count": null,
   "metadata": {},
   "outputs": [],
   "source": [
    "# Set initial investment\n",
    "# YOUR CODE HERE!\n",
    "\n",
    "# Use the lower and upper `95%` confidence intervals to calculate the range of the possible outcomes of our $60,000\n",
    "# YOUR CODE HERE!\n",
    "\n",
    "# Print results\n",
    "print(f\"There is a 95% chance that an initial investment of ${initial_investment} in the portfolio\"\n",
    "      f\" over the next 10 years will end within in the range of\"\n",
    "      f\" ${ci_lower_ten} and ${ci_upper_ten}\")"
   ]
  },
  {
   "cell_type": "code",
   "execution_count": null,
   "metadata": {},
   "outputs": [],
   "source": []
  }
 ],
 "metadata": {
  "kernelspec": {
   "display_name": "Python 3.7.13 ('alpacaenv')",
   "language": "python",
   "name": "python3"
  },
  "language_info": {
   "codemirror_mode": {
    "name": "ipython",
    "version": 3
   },
   "file_extension": ".py",
   "mimetype": "text/x-python",
   "name": "python",
   "nbconvert_exporter": "python",
   "pygments_lexer": "ipython3",
   "version": "3.7.13"
  },
  "nteract": {
   "version": "0.28.0"
  },
  "vscode": {
   "interpreter": {
    "hash": "5cb9530f687dee8760a6cf61896193d5bf38a8e9bde7a4346ad250e59bf5a35e"
   }
  }
 },
 "nbformat": 4,
 "nbformat_minor": 4
}
